{
  "nbformat": 4,
  "nbformat_minor": 0,
  "metadata": {
    "colab": {
      "provenance": [],
      "authorship_tag": "ABX9TyNdkWZ5QLXICgciwqqZ+wiQ",
      "include_colab_link": true
    },
    "kernelspec": {
      "name": "python3",
      "display_name": "Python 3"
    },
    "language_info": {
      "name": "python"
    }
  },
  "cells": [
    {
      "cell_type": "markdown",
      "metadata": {
        "id": "view-in-github",
        "colab_type": "text"
      },
      "source": [
        "<a href=\"https://colab.research.google.com/github/Shreyash420/Skill/blob/main/Untitled3.ipynb\" target=\"_parent\"><img src=\"https://colab.research.google.com/assets/colab-badge.svg\" alt=\"Open In Colab\"/></a>"
      ]
    },
    {
      "cell_type": "code",
      "execution_count": null,
      "metadata": {
        "id": "kT9hbOzH7lUM"
      },
      "outputs": [],
      "source": [
        "import pandas as pd\n",
        "from sklearn import datasets\n",
        "from sklearn.preprocessing import MinMaxScaler, StandardScaler\n",
        "\n",
        "# Step 1: Load the Iris dataset from UCI (directly available in sklearn)\n",
        "iris = datasets.load_iris()\n",
        "df = pd.DataFrame(data=iris.data, columns=iris.feature_names)\n",
        "\n",
        "# Step 2: Apply Min-Max Scaling (Normalization)\n",
        "min_max_scaler = MinMaxScaler()\n",
        "df_min_max_scaled = min_max_scaler.fit_transform(df)\n",
        "\n",
        "# Step 3: Apply Standard Scaling (Standardization)\n",
        "standard_scaler = StandardScaler()\n",
        "df_standard_scaled = standard_scaler.fit_transform(df)\n",
        "\n",
        "# Convert the scaled data back to DataFrame for better visualization\n",
        "df_min_max_scaled = pd.DataFrame(df_min_max_scaled, columns=iris.feature_names)\n",
        "df_standard_scaled = pd.DataFrame(df_standard_scaled, columns=iris.feature_names)\n",
        "\n",
        "# Output results\n",
        "print(\"Original Data (first 5 rows):\")\n",
        "print(df.head())\n",
        "print(\"\\nMin-Max Scaled Data (first 5 rows):\")\n",
        "print(df_min_max_scaled.head())\n",
        "print(\"\\nStandard Scaled Data (first 5 rows):\")\n",
        "print(df_standard_scaled.head())"
      ]
    }
  ]
}